{
  "nbformat": 4,
  "nbformat_minor": 0,
  "metadata": {
    "colab": {
      "name": "test_a2t",
      "provenance": [],
      "toc_visible": true,
      "authorship_tag": "ABX9TyPVsIjLHLVJz9Bwhu5Ifkr5",
      "include_colab_link": true
    },
    "kernelspec": {
      "name": "python3",
      "display_name": "Python 3"
    },
    "language_info": {
      "name": "python"
    }
  },
  "cells": [
    {
      "cell_type": "markdown",
      "metadata": {
        "id": "view-in-github",
        "colab_type": "text"
      },
      "source": [
        "<a href=\"https://colab.research.google.com/github/ibcasxxf/root/blob/master/test_a2t.ipynb\" target=\"_parent\"><img src=\"https://colab.research.google.com/assets/colab-badge.svg\" alt=\"Open In Colab\"/></a>"
      ]
    },
    {
      "cell_type": "code",
      "metadata": {
        "colab": {
          "base_uri": "https://localhost:8080/"
        },
        "id": "TOZFoFhSxpCf",
        "outputId": "3b48b799-4c22-4c3b-83ac-4e283e0fe63e"
      },
      "source": [
        "pip install a2t"
      ],
      "execution_count": 1,
      "outputs": [
        {
          "output_type": "stream",
          "name": "stdout",
          "text": [
            "Collecting a2t\n",
            "  Downloading a2t-0.2.0-py3-none-any.whl (56 kB)\n",
            "\u001b[K     |████████████████████████████████| 56 kB 2.2 MB/s \n",
            "\u001b[?25hRequirement already satisfied: tqdm in /usr/local/lib/python3.7/dist-packages (from a2t) (4.62.3)\n",
            "Requirement already satisfied: torch in /usr/local/lib/python3.7/dist-packages (from a2t) (1.9.0+cu111)\n",
            "Collecting transformers\n",
            "  Downloading transformers-4.12.3-py3-none-any.whl (3.1 MB)\n",
            "\u001b[K     |████████████████████████████████| 3.1 MB 8.4 MB/s \n",
            "\u001b[?25hRequirement already satisfied: typing-extensions in /usr/local/lib/python3.7/dist-packages (from torch->a2t) (3.7.4.3)\n",
            "Requirement already satisfied: numpy>=1.17 in /usr/local/lib/python3.7/dist-packages (from transformers->a2t) (1.19.5)\n",
            "Requirement already satisfied: regex!=2019.12.17 in /usr/local/lib/python3.7/dist-packages (from transformers->a2t) (2019.12.20)\n",
            "Requirement already satisfied: packaging>=20.0 in /usr/local/lib/python3.7/dist-packages (from transformers->a2t) (21.0)\n",
            "Requirement already satisfied: importlib-metadata in /usr/local/lib/python3.7/dist-packages (from transformers->a2t) (4.8.1)\n",
            "Collecting pyyaml>=5.1\n",
            "  Downloading PyYAML-6.0-cp37-cp37m-manylinux_2_5_x86_64.manylinux1_x86_64.manylinux_2_12_x86_64.manylinux2010_x86_64.whl (596 kB)\n",
            "\u001b[K     |████████████████████████████████| 596 kB 55.3 MB/s \n",
            "\u001b[?25hRequirement already satisfied: filelock in /usr/local/lib/python3.7/dist-packages (from transformers->a2t) (3.3.0)\n",
            "Collecting sacremoses\n",
            "  Downloading sacremoses-0.0.46-py3-none-any.whl (895 kB)\n",
            "\u001b[K     |████████████████████████████████| 895 kB 45.9 MB/s \n",
            "\u001b[?25hRequirement already satisfied: requests in /usr/local/lib/python3.7/dist-packages (from transformers->a2t) (2.23.0)\n",
            "Collecting tokenizers<0.11,>=0.10.1\n",
            "  Downloading tokenizers-0.10.3-cp37-cp37m-manylinux_2_5_x86_64.manylinux1_x86_64.manylinux_2_12_x86_64.manylinux2010_x86_64.whl (3.3 MB)\n",
            "\u001b[K     |████████████████████████████████| 3.3 MB 25.4 MB/s \n",
            "\u001b[?25hCollecting huggingface-hub<1.0,>=0.1.0\n",
            "  Downloading huggingface_hub-0.1.1-py3-none-any.whl (59 kB)\n",
            "\u001b[K     |████████████████████████████████| 59 kB 5.8 MB/s \n",
            "\u001b[?25hRequirement already satisfied: pyparsing>=2.0.2 in /usr/local/lib/python3.7/dist-packages (from packaging>=20.0->transformers->a2t) (2.4.7)\n",
            "Requirement already satisfied: zipp>=0.5 in /usr/local/lib/python3.7/dist-packages (from importlib-metadata->transformers->a2t) (3.6.0)\n",
            "Requirement already satisfied: urllib3!=1.25.0,!=1.25.1,<1.26,>=1.21.1 in /usr/local/lib/python3.7/dist-packages (from requests->transformers->a2t) (1.24.3)\n",
            "Requirement already satisfied: chardet<4,>=3.0.2 in /usr/local/lib/python3.7/dist-packages (from requests->transformers->a2t) (3.0.4)\n",
            "Requirement already satisfied: idna<3,>=2.5 in /usr/local/lib/python3.7/dist-packages (from requests->transformers->a2t) (2.10)\n",
            "Requirement already satisfied: certifi>=2017.4.17 in /usr/local/lib/python3.7/dist-packages (from requests->transformers->a2t) (2021.5.30)\n",
            "Requirement already satisfied: six in /usr/local/lib/python3.7/dist-packages (from sacremoses->transformers->a2t) (1.15.0)\n",
            "Requirement already satisfied: joblib in /usr/local/lib/python3.7/dist-packages (from sacremoses->transformers->a2t) (1.0.1)\n",
            "Requirement already satisfied: click in /usr/local/lib/python3.7/dist-packages (from sacremoses->transformers->a2t) (7.1.2)\n",
            "Installing collected packages: pyyaml, tokenizers, sacremoses, huggingface-hub, transformers, a2t\n",
            "  Attempting uninstall: pyyaml\n",
            "    Found existing installation: PyYAML 3.13\n",
            "    Uninstalling PyYAML-3.13:\n",
            "      Successfully uninstalled PyYAML-3.13\n",
            "Successfully installed a2t-0.2.0 huggingface-hub-0.1.1 pyyaml-6.0 sacremoses-0.0.46 tokenizers-0.10.3 transformers-4.12.3\n"
          ]
        }
      ]
    },
    {
      "cell_type": "code",
      "metadata": {
        "colab": {
          "base_uri": "https://localhost:8080/"
        },
        "id": "6JKXdP1017Nr",
        "outputId": "959398d1-ccd4-42e1-da38-8f42a53d52e1"
      },
      "source": [
        ">>> from a2t.topic_classification import NLITopicClassifier\n",
        "\n",
        ">>> topics = ['status quo', 'vision', 'pathway', 'action']\n",
        ">>> context = \"The 2016 National Research Infrastructure Roadmap identifies priority research infrastructure for the coming decade in nine areas that will underpin research in which Australia can and needs to excel, to deliver long-term national benefit and foster strategic international partnerships.\"\n",
        "\n",
        ">>> clf = NLITopicClassifier(topics)\n",
        "\n",
        ">>> predictions = clf(context)[0]\n",
        ">>> print(sorted(list(zip(predictions, topics)), reverse=True))\n",
        "\n",
        "\n",
        ">>> from a2t.topic_classification import NLITopicClassifierWithMappingHead\n",
        "\n",
        ">>> topic_mapping = {topic: topic for topic in topics}\n",
        ">>> topic_mapping['health'] = 'medicine'\n",
        ">>> topic_mapping['money'] = 'economy'\n",
        "\n",
        ">>> clf = NLITopicClassifierWithMappingHead(topics, topic_mapping=topic_mapping)\n",
        "\n",
        ">>> predictions = clf(context)[0]\n",
        ">>> print(sorted(list(zip(predictions, topics)), reverse=True))\n"
      ],
      "execution_count": 4,
      "outputs": [
        {
          "output_type": "stream",
          "name": "stderr",
          "text": [
            "100%|██████████| 1/1 [00:02<00:00,  2.92s/it]\n"
          ]
        },
        {
          "output_type": "stream",
          "name": "stdout",
          "text": [
            "[(0.4170972, 'action'), (0.30831647, 'vision'), (0.24397899, 'pathway'), (0.030607373, 'status quo')]\n"
          ]
        },
        {
          "output_type": "stream",
          "name": "stderr",
          "text": [
            "100%|██████████| 1/1 [00:04<00:00,  4.52s/it]"
          ]
        },
        {
          "output_type": "stream",
          "name": "stdout",
          "text": [
            "[(0.4170972, 'action'), (0.30831647, 'vision'), (0.24397899, 'pathway'), (0.030607373, 'status quo')]\n"
          ]
        },
        {
          "output_type": "stream",
          "name": "stderr",
          "text": [
            "\n"
          ]
        }
      ]
    },
    {
      "cell_type": "code",
      "metadata": {
        "colab": {
          "base_uri": "https://localhost:8080/"
        },
        "id": "3jy_P6yV33jB",
        "outputId": "a26a1053-ec98-4fd0-cf89-ceac77b7ae49"
      },
      "source": [
        ">>> from a2t.topic_classification import NLITopicClassifier\n",
        "\n",
        ">>> topics = ['need', 'target', 'trend', 'potential','opportunity','challenge','enabler','barrier']\n",
        ">>> context = \"The 2016 National Research Infrastructure Roadmap identifies priority research infrastructure for the coming decade in nine areas that will underpin research in which Australia can and needs to excel, to deliver long-term national benefit and foster strategic international partnerships.\"\n",
        "\n",
        ">>> clf = NLITopicClassifier(topics)\n",
        "\n",
        ">>> predictions = clf(context)[0]\n",
        ">>> print(sorted(list(zip(predictions, topics)), reverse=True))\n",
        "\n",
        "\n",
        ">>> from a2t.topic_classification import NLITopicClassifierWithMappingHead\n",
        "\n",
        ">>> topic_mapping = {topic: topic for topic in topics}\n",
        ">>> topic_mapping['health'] = 'medicine'\n",
        ">>> topic_mapping['money'] = 'economy'\n",
        "\n",
        ">>> clf = NLITopicClassifierWithMappingHead(topics, topic_mapping=topic_mapping)\n",
        "\n",
        ">>> predictions = clf(context)[0]\n",
        ">>> print(sorted(list(zip(predictions, topics)), reverse=True))\n"
      ],
      "execution_count": 5,
      "outputs": [
        {
          "output_type": "stream",
          "name": "stderr",
          "text": [
            "100%|██████████| 1/1 [00:05<00:00,  5.56s/it]\n"
          ]
        },
        {
          "output_type": "stream",
          "name": "stdout",
          "text": [
            "[(0.19603674, 'need'), (0.16462104, 'potential'), (0.13390242, 'target'), (0.12731019, 'enabler'), (0.12290895, 'challenge'), (0.10795868, 'trend'), (0.10016918, 'opportunity'), (0.047092754, 'barrier')]\n"
          ]
        },
        {
          "output_type": "stream",
          "name": "stderr",
          "text": [
            "100%|██████████| 1/1 [00:06<00:00,  6.64s/it]"
          ]
        },
        {
          "output_type": "stream",
          "name": "stdout",
          "text": [
            "[(0.19603674, 'need'), (0.16462104, 'potential'), (0.13390242, 'target'), (0.12731019, 'enabler'), (0.12290895, 'challenge'), (0.10795868, 'trend'), (0.10016918, 'opportunity'), (0.047092758, 'barrier')]\n"
          ]
        },
        {
          "output_type": "stream",
          "name": "stderr",
          "text": [
            "\n"
          ]
        }
      ]
    },
    {
      "cell_type": "code",
      "metadata": {
        "colab": {
          "base_uri": "https://localhost:8080/"
        },
        "id": "_EanTZ6w5Wg-",
        "outputId": "4225dd1e-e783-4cbc-9095-9ab702a3f704"
      },
      "source": [
        ">>> from a2t.topic_classification import NLITopicClassifier\n",
        "\n",
        ">>> topics = ['medicine', 'biology', 'policy', 'economy','society','environment','cooperation','ethic','technology']\n",
        ">>> context = \"The 2016 National Research Infrastructure Roadmap identifies priority research infrastructure for the coming decade in nine areas that will underpin research in which Australia can and needs to excel, to deliver long-term national benefit and foster strategic international partnerships.\"\n",
        "\n",
        ">>> clf = NLITopicClassifier(topics)\n",
        "\n",
        ">>> predictions = clf(context)[0]\n",
        ">>> print(sorted(list(zip(predictions, topics)), reverse=True))\n",
        "\n",
        "\n",
        ">>> from a2t.topic_classification import NLITopicClassifierWithMappingHead\n",
        "\n",
        ">>> topic_mapping = {topic: topic for topic in topics}\n",
        ">>> topic_mapping['health'] = 'medicine'\n",
        ">>> topic_mapping['money'] = 'economy'\n",
        "\n",
        ">>> clf = NLITopicClassifierWithMappingHead(topics, topic_mapping=topic_mapping)\n",
        "\n",
        ">>> predictions = clf(context)[0]\n",
        ">>> print(sorted(list(zip(predictions, topics)), reverse=True))\n"
      ],
      "execution_count": 1,
      "outputs": [
        {
          "output_type": "stream",
          "name": "stderr",
          "text": [
            "100%|██████████| 1/1 [00:06<00:00,  6.31s/it]\n"
          ]
        },
        {
          "output_type": "stream",
          "name": "stdout",
          "text": [
            "[(0.52176726, 'policy'), (0.29255852, 'cooperation'), (0.044629943, 'society'), (0.04279916, 'ethic'), (0.025378335, 'technology'), (0.02230965, 'environment'), (0.019013736, 'economy'), (0.018274287, 'medicine'), (0.013269073, 'biology')]\n"
          ]
        },
        {
          "output_type": "stream",
          "name": "stderr",
          "text": [
            "100%|██████████| 1/1 [00:06<00:00,  6.76s/it]\n"
          ]
        },
        {
          "output_type": "stream",
          "name": "stdout",
          "text": [
            "[(0.5172731, 'policy'), (0.29003862, 'cooperation'), (0.04424553, 'society'), (0.042430516, 'ethic'), (0.025159746, 'technology'), (0.023781763, 'economy'), (0.022117492, 'environment'), (0.021798471, 'medicine'), (0.013154783, 'biology')]\n"
          ]
        }
      ]
    },
    {
      "cell_type": "markdown",
      "metadata": {
        "id": "48LlzCZ07tzC"
      },
      "source": [
        "# 新段落"
      ]
    }
  ]
}